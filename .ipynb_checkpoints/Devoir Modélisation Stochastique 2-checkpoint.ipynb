{
 "cells": [
  {
   "cell_type": "markdown",
   "metadata": {},
   "source": [
    "# Devoir Modélisation Stochastique n° 2\n",
    "> Amadou DEME <br>\n",
    "> Mouhammad DIAKHATE <br>\n",
    "> DIC/GIT/2020 <br><br>\n",
    "<b>Professeur M. THIONGANE</b>"
   ]
  },
  {
   "cell_type": "markdown",
   "metadata": {},
   "source": [
    "# 0. Prétraitement et visualisation"
   ]
  },
  {
   "cell_type": "markdown",
   "metadata": {},
   "source": [
    "# 1. Identifier les différentes type services (i.e les différentes types de clients) et modéliser la loi des arrivées pour chaque type service"
   ]
  },
  {
   "cell_type": "markdown",
   "metadata": {},
   "source": [
    "# 2. ) Modéliser la loi des temps de patience des clients "
   ]
  },
  {
   "cell_type": "markdown",
   "metadata": {},
   "source": [
    "# 3. Modéliser la loi des durées de service des agents pour chaque type de service"
   ]
  },
  {
   "cell_type": "markdown",
   "metadata": {},
   "source": [
    "# 4. Ecrire un programme java pour simuler le centre d’appels d’appels (générer les arrivées, placer les clients à la bonne position dans la file, router les clients vers les agents en utilisant la politique de routage d´efini par manager, gérer le staffing des agents avant le début de la simulation)\n"
   ]
  },
  {
   "cell_type": "markdown",
   "metadata": {},
   "source": [
    "# 5. Comparer les mesures de performances votre simulateur avec les mesures de performances obtenues avec les données (par exemple le temps d’attente moyen des clients, le niveau de service, le taux d’occupation des agents)"
   ]
  },
  {
   "cell_type": "code",
   "execution_count": null,
   "metadata": {},
   "outputs": [],
   "source": []
  }
 ],
 "metadata": {
  "kernelspec": {
   "display_name": "Python 3",
   "language": "python",
   "name": "python3"
  },
  "language_info": {
   "codemirror_mode": {
    "name": "ipython",
    "version": 3
   },
   "file_extension": ".py",
   "mimetype": "text/x-python",
   "name": "python",
   "nbconvert_exporter": "python",
   "pygments_lexer": "ipython3",
   "version": "3.8.5"
  }
 },
 "nbformat": 4,
 "nbformat_minor": 4
}
